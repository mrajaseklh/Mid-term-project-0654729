{
 "cells": [
  {
   "cell_type": "markdown",
   "metadata": {},
   "source": [
    "Introduction\n",
    "--------------\n",
    "\n",
    "Image rendering is related to all and any of the techniques that are used to show an image to the user. This requires some conditioning of the image such as enhancing and restoring the image (if necessary) after noise removal or simply adapting the visualization of the image to the display that is available (for instance, we may require to change and smooth the image to make use of all the dynamics of a particular screen).\n",
    "\n",
    "One of the main situations we encounter when rendering an image is a difference in the amount of bit encoding that we can use for an image. For instance, we may have an image that was encoded by an MRI or a CT using 15 bits but it was then converted into a JPG or PNG file and necessarily lost some information because of the reduction of bits used per pixel.\n",
    "\n",
    "We will study here the effect that encoding can have in the rendering of an image by presenting the changes on the observed image at different bit encodings. \n",
    "\n",
    "We won't be working yet with a complete medical imaging (that will be covered after discussing DICOMs). We will directly open a medical image of the brain that was converted into a PNG and re-encode that image at different depths.\n",
    "\n",
    "Python provides some tools (always growing) for image processing in the package **scikit-imag**. The module **scypi** also provides imaging processing tools."
   ]
  },
  {
   "cell_type": "code",
   "execution_count": 5,
   "metadata": {
    "scrolled": true
   },
   "outputs": [
    {
     "ename": "ImportError",
     "evalue": "DLL load failed: The specified module could not be found.",
     "output_type": "error",
     "traceback": [
      "\u001b[1;31m\u001b[0m",
      "\u001b[1;31mImportError\u001b[0mTraceback (most recent call last)",
      "\u001b[1;32m<ipython-input-5-d46587932f6c>\u001b[0m in \u001b[0;36m<module>\u001b[1;34m()\u001b[0m\n\u001b[0;32m      1\u001b[0m \u001b[0mget_ipython\u001b[0m\u001b[1;33m(\u001b[0m\u001b[1;33m)\u001b[0m\u001b[1;33m.\u001b[0m\u001b[0mmagic\u001b[0m\u001b[1;33m(\u001b[0m\u001b[1;34mu'matplotlib inline'\u001b[0m\u001b[1;33m)\u001b[0m\u001b[1;33m\u001b[0m\u001b[0m\n\u001b[1;32m----> 2\u001b[1;33m \u001b[1;32mfrom\u001b[0m \u001b[0mskimage\u001b[0m \u001b[1;32mimport\u001b[0m \u001b[0mnovice\u001b[0m\u001b[1;33m,\u001b[0m \u001b[0mdata\u001b[0m\u001b[1;33m,\u001b[0m \u001b[0mio\u001b[0m\u001b[1;33m,\u001b[0m \u001b[0mexposure\u001b[0m\u001b[1;33m\u001b[0m\u001b[0m\n\u001b[0m\u001b[0;32m      3\u001b[0m \u001b[1;32mimport\u001b[0m \u001b[0mnumpy\u001b[0m \u001b[1;32mas\u001b[0m \u001b[0mnp\u001b[0m\u001b[1;33m\u001b[0m\u001b[0m\n\u001b[0;32m      4\u001b[0m \u001b[1;32mimport\u001b[0m \u001b[0mmatplotlib\u001b[0m\u001b[1;33m.\u001b[0m\u001b[0mpyplot\u001b[0m \u001b[1;32mas\u001b[0m \u001b[0mplt\u001b[0m\u001b[1;33m\u001b[0m\u001b[0m\n\u001b[0;32m      5\u001b[0m \u001b[1;32mimport\u001b[0m \u001b[0mmatplotlib\u001b[0m\u001b[1;33m.\u001b[0m\u001b[0mimage\u001b[0m \u001b[1;32mas\u001b[0m \u001b[0mmpimg\u001b[0m\u001b[1;33m\u001b[0m\u001b[0m\n",
      "\u001b[1;32mC:\\Users\\Manikandan\\Anaconda2\\anaconda2.1\\lib\\site-packages\\skimage\\novice\\__init__.py\u001b[0m in \u001b[0;36m<module>\u001b[1;34m()\u001b[0m\n\u001b[0;32m     97\u001b[0m \u001b[1;33m\u001b[0m\u001b[0m\n\u001b[0;32m     98\u001b[0m \"\"\"\n\u001b[1;32m---> 99\u001b[1;33m \u001b[1;32mfrom\u001b[0m \u001b[1;33m.\u001b[0m\u001b[0m_novice\u001b[0m \u001b[1;32mimport\u001b[0m \u001b[0mPicture\u001b[0m\u001b[1;33m,\u001b[0m \u001b[0mopen\u001b[0m\u001b[1;33m,\u001b[0m \u001b[0mcolors\u001b[0m\u001b[1;33m,\u001b[0m \u001b[0mcolor_dict\u001b[0m\u001b[1;33m\u001b[0m\u001b[0m\n\u001b[0m\u001b[0;32m    100\u001b[0m \u001b[1;33m\u001b[0m\u001b[0m\n\u001b[0;32m    101\u001b[0m \u001b[1;33m\u001b[0m\u001b[0m\n",
      "\u001b[1;32mC:\\Users\\Manikandan\\Anaconda2\\anaconda2.1\\lib\\site-packages\\skimage\\novice\\_novice.py\u001b[0m in \u001b[0;36m<module>\u001b[1;34m()\u001b[0m\n\u001b[0;32m      4\u001b[0m \u001b[1;33m\u001b[0m\u001b[0m\n\u001b[0;32m      5\u001b[0m \u001b[1;32mimport\u001b[0m \u001b[0mnumpy\u001b[0m \u001b[1;32mas\u001b[0m \u001b[0mnp\u001b[0m\u001b[1;33m\u001b[0m\u001b[0m\n\u001b[1;32m----> 6\u001b[1;33m \u001b[1;32mfrom\u001b[0m \u001b[1;33m.\u001b[0m\u001b[1;33m.\u001b[0m \u001b[1;32mimport\u001b[0m \u001b[0mio\u001b[0m\u001b[1;33m,\u001b[0m \u001b[0mimg_as_ubyte\u001b[0m\u001b[1;33m\u001b[0m\u001b[0m\n\u001b[0m\u001b[0;32m      7\u001b[0m \u001b[1;32mfrom\u001b[0m \u001b[1;33m.\u001b[0m\u001b[1;33m.\u001b[0m\u001b[0mtransform\u001b[0m \u001b[1;32mimport\u001b[0m \u001b[0mresize\u001b[0m\u001b[1;33m\u001b[0m\u001b[0m\n\u001b[0;32m      8\u001b[0m \u001b[1;32mfrom\u001b[0m \u001b[1;33m.\u001b[0m\u001b[1;33m.\u001b[0m\u001b[0mcolor\u001b[0m \u001b[1;32mimport\u001b[0m \u001b[0mcolor_dict\u001b[0m\u001b[1;33m\u001b[0m\u001b[0m\n",
      "\u001b[1;32mC:\\Users\\Manikandan\\Anaconda2\\anaconda2.1\\lib\\site-packages\\skimage\\io\\__init__.py\u001b[0m in \u001b[0;36m<module>\u001b[1;34m()\u001b[0m\n\u001b[0;32m      5\u001b[0m \"\"\"\n\u001b[0;32m      6\u001b[0m \u001b[1;33m\u001b[0m\u001b[0m\n\u001b[1;32m----> 7\u001b[1;33m \u001b[1;32mfrom\u001b[0m \u001b[1;33m.\u001b[0m\u001b[0mmanage_plugins\u001b[0m \u001b[1;32mimport\u001b[0m \u001b[1;33m*\u001b[0m\u001b[1;33m\u001b[0m\u001b[0m\n\u001b[0m\u001b[0;32m      8\u001b[0m \u001b[1;32mfrom\u001b[0m \u001b[1;33m.\u001b[0m\u001b[0msift\u001b[0m \u001b[1;32mimport\u001b[0m \u001b[1;33m*\u001b[0m\u001b[1;33m\u001b[0m\u001b[0m\n\u001b[0;32m      9\u001b[0m \u001b[1;32mfrom\u001b[0m \u001b[1;33m.\u001b[0m\u001b[0mcollection\u001b[0m \u001b[1;32mimport\u001b[0m \u001b[1;33m*\u001b[0m\u001b[1;33m\u001b[0m\u001b[0m\n",
      "\u001b[1;32mC:\\Users\\Manikandan\\Anaconda2\\anaconda2.1\\lib\\site-packages\\skimage\\io\\manage_plugins.py\u001b[0m in \u001b[0;36m<module>\u001b[1;34m()\u001b[0m\n\u001b[0;32m     26\u001b[0m \u001b[1;32mfrom\u001b[0m \u001b[0mglob\u001b[0m \u001b[1;32mimport\u001b[0m \u001b[0mglob\u001b[0m\u001b[1;33m\u001b[0m\u001b[0m\n\u001b[0;32m     27\u001b[0m \u001b[1;33m\u001b[0m\u001b[0m\n\u001b[1;32m---> 28\u001b[1;33m \u001b[1;32mfrom\u001b[0m \u001b[1;33m.\u001b[0m\u001b[0mcollection\u001b[0m \u001b[1;32mimport\u001b[0m \u001b[0mimread_collection_wrapper\u001b[0m\u001b[1;33m\u001b[0m\u001b[0m\n\u001b[0m\u001b[0;32m     29\u001b[0m \u001b[1;33m\u001b[0m\u001b[0m\n\u001b[0;32m     30\u001b[0m \u001b[1;33m\u001b[0m\u001b[0m\n",
      "\u001b[1;32mC:\\Users\\Manikandan\\Anaconda2\\anaconda2.1\\lib\\site-packages\\skimage\\io\\collection.py\u001b[0m in \u001b[0;36m<module>\u001b[1;34m()\u001b[0m\n\u001b[0;32m     10\u001b[0m \u001b[1;32mimport\u001b[0m \u001b[0mnumpy\u001b[0m \u001b[1;32mas\u001b[0m \u001b[0mnp\u001b[0m\u001b[1;33m\u001b[0m\u001b[0m\n\u001b[0;32m     11\u001b[0m \u001b[1;32mimport\u001b[0m \u001b[0msix\u001b[0m\u001b[1;33m\u001b[0m\u001b[0m\n\u001b[1;32m---> 12\u001b[1;33m \u001b[1;32mfrom\u001b[0m \u001b[0mPIL\u001b[0m \u001b[1;32mimport\u001b[0m \u001b[0mImage\u001b[0m\u001b[1;33m\u001b[0m\u001b[0m\n\u001b[0m\u001b[0;32m     13\u001b[0m \u001b[1;33m\u001b[0m\u001b[0m\n\u001b[0;32m     14\u001b[0m \u001b[1;32mfrom\u001b[0m \u001b[1;33m.\u001b[0m\u001b[1;33m.\u001b[0m\u001b[0mexternal\u001b[0m\u001b[1;33m.\u001b[0m\u001b[0mtifffile\u001b[0m \u001b[1;32mimport\u001b[0m \u001b[0mTiffFile\u001b[0m\u001b[1;33m\u001b[0m\u001b[0m\n",
      "\u001b[1;32mC:\\Users\\Manikandan\\Anaconda2\\anaconda2.1\\lib\\site-packages\\PIL\\Image.py\u001b[0m in \u001b[0;36m<module>\u001b[1;34m()\u001b[0m\n\u001b[0;32m     54\u001b[0m     \u001b[1;31m# Also note that Image.core is not a publicly documented interface,\u001b[0m\u001b[1;33m\u001b[0m\u001b[1;33m\u001b[0m\u001b[0m\n\u001b[0;32m     55\u001b[0m     \u001b[1;31m# and should be considered private and subject to change.\u001b[0m\u001b[1;33m\u001b[0m\u001b[1;33m\u001b[0m\u001b[0m\n\u001b[1;32m---> 56\u001b[1;33m     \u001b[1;32mfrom\u001b[0m \u001b[1;33m.\u001b[0m \u001b[1;32mimport\u001b[0m \u001b[0m_imaging\u001b[0m \u001b[1;32mas\u001b[0m \u001b[0mcore\u001b[0m\u001b[1;33m\u001b[0m\u001b[0m\n\u001b[0m\u001b[0;32m     57\u001b[0m     \u001b[1;32mif\u001b[0m \u001b[0mPILLOW_VERSION\u001b[0m \u001b[1;33m!=\u001b[0m \u001b[0mgetattr\u001b[0m\u001b[1;33m(\u001b[0m\u001b[0mcore\u001b[0m\u001b[1;33m,\u001b[0m \u001b[1;34m'PILLOW_VERSION'\u001b[0m\u001b[1;33m,\u001b[0m \u001b[0mNone\u001b[0m\u001b[1;33m)\u001b[0m\u001b[1;33m:\u001b[0m\u001b[1;33m\u001b[0m\u001b[0m\n\u001b[0;32m     58\u001b[0m         raise ImportError(\"The _imaging extension was built for another \"\n",
      "\u001b[1;31mImportError\u001b[0m: DLL load failed: The specified module could not be found."
     ]
    }
   ],
   "source": [
    "%matplotlib inline\n",
    "from skimage import novice, data, io, exposure\n",
    "import numpy as np\n",
    "import matplotlib.pyplot as plt\n",
    "import matplotlib.image as mpimg\n",
    "\n",
    "#the simplest way to open and display an image uses the novice module from skimage\n",
    "brainpic = novice.open('braincomplete.png')\n",
    "brainpic.show()\n",
    "\n",
    "#however, we will use instead the matplotlib image modules to obtain arrays that we can manipulate\n",
    "#the 8-bit data in the PNG will be converted to floating point data between 0 and 1 by imread\n",
    "#unless you ask it to Flatten=True\n",
    "brainpicarray = mpimg.imread('braincomplete.png','True') \n",
    "print('Original (8-bit encoding) the range is: '+str(np.max(brainpicarray))) #showing max value in the image\n",
    "bp=plt.subplot(221)\n",
    "plt.imshow(brainpicarray)\n",
    "\n",
    "#this here only adjust the reduction in coded bits in the image\n",
    "#we will use Jm where we reduce the encoding to only values between 0 and 200' Km up to 100 and finally Lm up to 50\n",
    "Jm=exposure.rescale_intensity(brainpicarray,in_range=(0, pow(2,7)-1)) #reducing encoding\n",
    "Km=exposure.rescale_intensity(brainpicarray,in_range=(0, pow(2,6)-1)) #reducing encoding\n",
    "Lm=exposure.rescale_intensity(brainpicarray,in_range=(0, pow(2,1)-1)) #reducing to 1 bit\n",
    "plt.subplot(222)\n",
    "plt.imshow(Jm)\n",
    "plt.subplot(223)\n",
    "plt.imshow(Km)\n",
    "plt.subplot(224)\n",
    "plt.imshow(Lm)\n"
   ]
  },
  {
   "cell_type": "markdown",
   "metadata": {},
   "source": [
    "Where we can see that reducing the number of encoding bits reduces the dynamic of the image. We already see a difference in the aspect for the first image even though we used the 8-bit original encoding. Where is this coming from? (Tip: the normalization used by imshow takes care of some rendering if we do not!)\n",
    "\n",
    "In the next part we will show the histogram for the different encoded images, observe those histograms and discuss why if the minimum and maximum of those histograms are still showing 0 and 255 we have an image with less levels of gray. What is the rescale_intensity function doing?"
   ]
  },
  {
   "cell_type": "code",
   "execution_count": null,
   "metadata": {
    "collapsed": true
   },
   "outputs": [],
   "source": [
    "plt.figure()\n",
    "ht=plt.hist(brainpicarray.ravel(), bins=256, histtype='step', color='black')\n",
    "plt.figure()\n",
    "ht=plt.hist(Jm.ravel(), bins=256, histtype='step', color='black')\n",
    "plt.figure()\n",
    "ht=plt.hist(Km.ravel(), bins=256, histtype='step', color='black')\n",
    "plt.figure()\n",
    "ht=plt.hist(Lm.ravel(), bins=256, histtype='step', color='black')"
   ]
  },
  {
   "cell_type": "markdown",
   "metadata": {},
   "source": [
    "From those histograms we can clearly see that this image has a very large number of very dark and very bright pixels, and that solely rescaling is not increasing visibility of any feature.\n",
    "\n",
    "Better techniques to modify the rendering of this images are as discussed in class manipulating the histogram, for instance, we can use a histogram equalization."
   ]
  },
  {
   "cell_type": "code",
   "execution_count": null,
   "metadata": {
    "collapsed": true
   },
   "outputs": [],
   "source": [
    "fig=plt.figure(figsize=(18, 16), dpi= 80, facecolor='w', edgecolor='k')\n",
    "img_eq = exposure.equalize_hist(brainpicarray)\n",
    "plt.subplot(221)\n",
    "plt.imshow(img_eq)\n",
    "plt.subplot(222)\n",
    "plt.imshow(brainpicarray)\n",
    "plt.subplot(223)\n",
    "ht=plt.hist(img_eq.ravel(), bins=256, histtype='step', color='black')\n",
    "plt.subplot(224)\n",
    "ht=plt.hist(brainpicarray.ravel(), bins=256, histtype='step', color='black')"
   ]
  },
  {
   "cell_type": "markdown",
   "metadata": {},
   "source": [
    "Or an equalization that takes the pixels in the percentiles 8% to 70% for the equalization."
   ]
  },
  {
   "cell_type": "code",
   "execution_count": null,
   "metadata": {
    "collapsed": true
   },
   "outputs": [],
   "source": [
    "fig=plt.figure(figsize=(18, 16), dpi= 80, facecolor='w', edgecolor='k')\n",
    "p2, p98 = np.percentile(brainpicarray, (5, 70))\n",
    "img_eq2 = exposure.rescale_intensity(brainpicarray, in_range=(p2, p98))\n",
    "\n",
    "plt.subplot(221)\n",
    "plt.imshow(img_eq2)\n",
    "plt.subplot(222)\n",
    "plt.imshow(brainpicarray)\n",
    "plt.subplot(223)\n",
    "ht=plt.hist(img_eq2.ravel(), bins=256, histtype='step', color='black')\n",
    "plt.subplot(224)\n",
    "ht=plt.hist(brainpicarray.ravel(), bins=256, histtype='step', color='black')"
   ]
  },
  {
   "cell_type": "markdown",
   "metadata": {},
   "source": [
    "Or using an adaptive histogram equalization."
   ]
  },
  {
   "cell_type": "code",
   "execution_count": null,
   "metadata": {
    "collapsed": true,
    "scrolled": true
   },
   "outputs": [],
   "source": [
    "fig=plt.figure(figsize=(18, 16), dpi= 80, facecolor='w', edgecolor='k')\n",
    "img_adapteq = exposure.equalize_adapthist(brainpicarray, clip_limit=0.06)\n",
    "\n",
    "plt.subplot(221)\n",
    "plt.imshow(img_adapteq)\n",
    "plt.subplot(222)\n",
    "plt.imshow(brainpicarray)\n",
    "plt.subplot(223)\n",
    "ht=plt.hist(img_eq2.ravel(), bins=256, histtype='step', color='black')\n",
    "plt.subplot(224)\n",
    "ht=plt.hist(brainpicarray.ravel(), bins=256, histtype='step', color='black')"
   ]
  },
  {
   "cell_type": "markdown",
   "metadata": {},
   "source": [
    "## Summary"
   ]
  },
  {
   "cell_type": "markdown",
   "metadata": {},
   "source": [
    "In this example we analyze the impact of reducing the encoding bits in an image on the rendering to the user.\n",
    "\n",
    "Test your knowledge:\n",
    "\n",
    "* Modify the clip limit in the Adaptive histogram equalization and observe the changes\n",
    "* Investigate the function equalize_adapthist and analyse the effect of the modification of clip limit according to the function description\n",
    "\n",
    "Comments and corrections welcome!"
   ]
  },
  {
   "cell_type": "markdown",
   "metadata": {},
   "source": [
    "References\n",
    "---------------\n",
    "\n",
    "* Tinku Acharya and Ajoy K. Ray, *Image Processing - Principles and Applications*. Wiley InterScience, 2006."
   ]
  }
 ],
 "metadata": {
  "kernelspec": {
   "display_name": "Python 2",
   "language": "python",
   "name": "python2"
  },
  "language_info": {
   "codemirror_mode": {
    "name": "ipython",
    "version": 2
   },
   "file_extension": ".py",
   "mimetype": "text/x-python",
   "name": "python",
   "nbconvert_exporter": "python",
   "pygments_lexer": "ipython2",
   "version": "2.7.13"
  }
 },
 "nbformat": 4,
 "nbformat_minor": 1
}
